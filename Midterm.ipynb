{
 "cells": [
  {
   "cell_type": "code",
   "execution_count": 3,
   "metadata": {},
   "outputs": [],
   "source": [
    "import numpy as np\n",
    "import matplotlib.pyplot as plt"
   ]
  },
  {
   "cell_type": "code",
   "execution_count": 4,
   "metadata": {},
   "outputs": [],
   "source": [
    "weights=[]\n",
    "arr=np.random.normal(17,22,1000)\n",
    "for num in arr:\n",
    "    rand=np.random.randint(17,22)\n",
    "    weights.append(rand)"
   ]
  },
  {
   "cell_type": "code",
   "execution_count": 5,
   "metadata": {},
   "outputs": [
    {
     "name": "stdout",
     "output_type": "stream",
     "text": [
      "19 1.4\n"
     ]
    }
   ],
   "source": [
    "muu = np.mean(weights)\n",
    "mu=round(muu)\n",
    "sigmaa=np.std(weights)\n",
    "sigma=round(sigmaa,1)\n",
    "print (mu, sigma)"
   ]
  },
  {
   "cell_type": "code",
   "execution_count": 6,
   "metadata": {},
   "outputs": [
    {
     "name": "stdout",
     "output_type": "stream",
     "text": [
      "below:  39.300000000000004 %\n"
     ]
    }
   ],
   "source": [
    "l=0\n",
    "num_weight=0\n",
    "for w in weights:\n",
    "    if(float(w)<(mu-sigma)):\n",
    "        l+=1\n",
    "    if(float(w)>(mu+sigma)):\n",
    "        l+=1\n",
    "    num_weight+=1\n",
    "print(\"below: \", (l/num_weight)*100,\"%\")"
   ]
  },
  {
   "cell_type": "code",
   "execution_count": 19,
   "metadata": {},
   "outputs": [
    {
     "name": "stdout",
     "output_type": "stream",
     "text": [
      "[19, 17, 19, 20, 19, 17, 17, 21]\n"
     ]
    }
   ],
   "source": [
    "first_8_weights=[]\n",
    "wei=list()\n",
    "for num in weights[0:8]:\n",
    "    first_8_weights.append(np.around(num, 2))\n",
    "    wei.append(num)\n",
    "print (first_8_weights)"
   ]
  },
  {
   "cell_type": "code",
   "execution_count": 20,
   "metadata": {},
   "outputs": [
    {
     "name": "stdout",
     "output_type": "stream",
     "text": [
      "[34.46, 40.57, 49.96, 41.34, 31.23, 32.57, 43.92, 40.7]\n"
     ]
    }
   ],
   "source": [
    "ls=[34.46, 40.57, 49.96, 41.34, 31.23, 32.57, 43.92, 40.7]\n",
    "first_8_ages=[]\n",
    "for n in ls:\n",
    "    first_8_ages.append(n)\n",
    "print (first_8_ages)"
   ]
  },
  {
   "cell_type": "code",
   "execution_count": 21,
   "metadata": {},
   "outputs": [
    {
     "name": "stdout",
     "output_type": "stream",
     "text": [
      "[[19.   17.   19.   20.   19.   17.   17.   21.  ]\n",
      " [34.46 40.57 49.96 41.34 31.23 32.57 43.92 40.7 ]]\n"
     ]
    }
   ],
   "source": [
    "weight=np.array([first_8_weights])\n",
    "ages=np.array([first_8_ages])\n",
    "wa=np.concatenate((weight,ages),axis=0)\n",
    "print (wa)"
   ]
  },
  {
   "cell_type": "code",
   "execution_count": 31,
   "metadata": {},
   "outputs": [
    {
     "name": "stdout",
     "output_type": "stream",
     "text": [
      "21\n"
     ]
    },
    {
     "data": {
      "text/plain": [
       "(array([3., 0., 0., 0., 0., 3., 0., 1., 0., 1.]),\n",
       " array([17. , 17.4, 17.8, 18.2, 18.6, 19. , 19.4, 19.8, 20.2, 20.6, 21. ]),\n",
       " <BarContainer object of 10 artists>)"
      ]
     },
     "execution_count": 31,
     "metadata": {},
     "output_type": "execute_result"
    },
    {
     "data": {
      "image/png": "[encoded data removed]",
      "text/plain": [
       "<Figure size 640x480 with 1 Axes>"
      ]
     },
     "metadata": {},
     "output_type": "display_data"
    }
   ],
   "source": [
    "wei.sort()\n",
    "heavy=0\n",
    "for i in wei:\n",
    "    if heavy < i:\n",
    "        heavy=i\n",
    "print(heavy)\n",
    "plt.hist(wei)"
   ]
  }
 ],
 "metadata": {
  "kernelspec": {
   "display_name": "Python 3",
   "language": "python",
   "name": "python3"
  },
  "language_info": {
   "codemirror_mode": {
    "name": "ipython",
    "version": 3
   },
   "file_extension": ".py",
   "mimetype": "text/x-python",
   "name": "python",
   "nbconvert_exporter": "python",
   "pygments_lexer": "ipython3",
   "version": "3.11.1"
  },
  "orig_nbformat": 4
 },
 "nbformat": 4,
 "nbformat_minor": 2
}
