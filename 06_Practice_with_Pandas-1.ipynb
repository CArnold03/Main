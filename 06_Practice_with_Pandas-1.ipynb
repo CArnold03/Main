{
 "cells": [
  {
   "attachments": {},
   "cell_type": "markdown",
   "metadata": {},
   "source": [
    "## Class Participation for Wednesday, Week 12\n",
    "\n",
    "In this assignment, we will practice data frames. In the previous lab, you practiced making dataframes 3 different ways:\n",
    "\n",
    "- using a numpy array as the data\n",
    "\n",
    "- creating multiples Series objects and combining them \n",
    "\n",
    "- creating a dictionary\n"
   ]
  },
  {
   "cell_type": "code",
   "execution_count": null,
   "metadata": {},
   "outputs": [],
   "source": [
    "import numpy as np\n",
    "import matplotlib.pyplot as plt\n",
    "import pandas as pd\n",
    "import scipy"
   ]
  },
  {
   "attachments": {},
   "cell_type": "markdown",
   "metadata": {},
   "source": [
    "## **TASK 1**:  \n",
    "Using any of the methods we practiced, make a pandas DataFrame called ```my_classes``` with three series (columns): \n",
    "\n",
    "1) a short ```name``` of each class you are in this semester (This course is Introduction to Python, so you could call it Python, for example)\n",
    "\n",
    "2) the ```number``` for the class  (this class is CSCI 130, so you would write 130)\n",
    "\n",
    "3) a ranking of your perceived ```difficulty```   of the class, on a scale of 1 to 10.  \n",
    "\n",
    "Print the DataFrame to the screen.     "
   ]
  },
  {
   "cell_type": "code",
   "execution_count": null,
   "metadata": {},
   "outputs": [],
   "source": []
  },
  {
   "attachments": {},
   "cell_type": "markdown",
   "metadata": {},
   "source": [
    "Before continuing, check the output of your dataframe to make sure there are no mistakes in how the dataframe came out."
   ]
  },
  {
   "attachments": {},
   "cell_type": "markdown",
   "metadata": {},
   "source": [
    "## **TASK 2**:  \n",
    "We can use a pandas series like a numpy array.  Fill in the missing labels below to plot the scatter plot for 'number' (on the x axis) and 'difficultry' (on the vertical axis) for the data above.   From this data, does it seem like there is a correlation (relationship) between the number of the class and the difficulty level? "
   ]
  },
  {
   "cell_type": "code",
   "execution_count": null,
   "metadata": {},
   "outputs": [],
   "source": [
    "my_classes.plot.scatter(x='fill in this label', y='fill in this label', \n",
    "                     color='Blue', label='Difficulty of my courses vs. course number')"
   ]
  },
  {
   "attachments": {},
   "cell_type": "markdown",
   "metadata": {},
   "source": [
    "##  **TASK 3**: \n",
    "\n",
    "Fit a line to the data, using methods we discussed previously in this class. Use your tutorial ```03_Intro_to_Line_Fitting``` for help. Recall that we used the scipy library and we defined a linear function to feed into scipy.optimize. \n",
    "\n",
    "Warning: there is no reason to believe that this line should go through the origin (0,0). Therefore, you should have two parameters in your test function, a and b (in other words, slope and y-intercept)."
   ]
  }
 ],
 "metadata": {
  "kernelspec": {
   "display_name": "Python 3",
   "language": "python",
   "name": "python3"
  },
  "language_info": {
   "name": "python",
   "version": "3.11.1"
  },
  "orig_nbformat": 4
 },
 "nbformat": 4,
 "nbformat_minor": 2
}
